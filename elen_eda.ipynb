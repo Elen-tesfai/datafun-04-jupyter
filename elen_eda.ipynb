{
 "cells": [
  {
   "cell_type": "markdown",
   "metadata": {},
   "source": [
    "# Exploratory Data Analysis (EDA) on Iris Dataset\n",
    "**Author**: Elen Tesfai  \n",
    "**Date**: [September 14, 2024]  \n",
    "**Purpose**: This notebook contains exploratory data analysis on the Iris dataset. The aim is to visualize and understand the distribution and relationships within the dataset."
   ]
  },
  {
   "cell_type": "markdown",
   "metadata": {},
   "source": [
    "## Importing Dependencies"
   ]
  },
  {
   "cell_type": "markdown",
   "metadata": {},
   "source": [
    "## Overview of Steps\n",
    "1. **Importing Dependencies**  \n",
    "   - Load necessary libraries.\n",
    "\n",
    "2. **Data Acquisition**  \n",
    "   - Load the Iris dataset and display initial rows.\n",
    "\n",
    "3. **Initial Data Inspection**  \n",
    "   - Examine the shape and data types.\n",
    "\n",
    "4. **Descriptive Statistics**  \n",
    "   - Calculate summary statistics.\n",
    "\n",
    "5. **Data Visualization**  \n",
    "   - Visualize distributions and relationships.\n",
    "\n",
    "6. **Data Cleaning**  \n",
    "   - Identify and handle missing values if needed."
   ]
  },
  {
   "cell_type": "code",
   "execution_count": null,
   "metadata": {},
   "outputs": [],
   "source": [
    "import matplotlib.pyplot as plt\n",
    "import pandas as pd\n",
    "import seaborn as sns\n",
    "import numpy as np"
   ]
  },
  {
   "cell_type": "markdown",
   "metadata": {},
   "source": [
    "# Step 2: Data Acquisition\n",
    "def load_data():\n",
    "    iris = load_iris()\n",
    "    iris_df = pd.DataFrame(data=iris.data, columns=iris.feature_names)\n",
    "    iris_df['species'] = iris.target\n",
    "    iris_df['species'] = iris_df['species'].map({0: 'setosa', 1: 'versicolor', 2: 'virginica'})\n",
    "    return iris_df"
   ]
  },
  {
   "cell_type": "markdown",
   "metadata": {},
   "source": [
    "# Step 3: Initial Data Inspection\n",
    "def inspect_data(df):\n",
    "    print(df.head())\n",
    "    print(\"Shape:\", df.shape)\n",
    "    print(\"Data Types:\\n\", df.dtypes)"
   ]
  },
  {
   "cell_type": "markdown",
   "metadata": {},
   "source": [
    "# Step 4: Descriptive Statistics\n",
    "def descriptive_statistics(df):\n",
    "    print(\"Summary Statistics:\\n\", df.describe())"
   ]
  },
  {
   "cell_type": "markdown",
   "metadata": {},
   "source": [
    "# Step 5: Data Visualization\n",
    "def visualize_data(df):\n",
    "    sns.pairplot(df, hue='species')\n",
    "    plt.show()"
   ]
  },
  {
   "cell_type": "markdown",
   "metadata": {},
   "source": [
    "# Step 6: Data Cleaning\n",
    "def check_missing_values(df):\n",
    "    print(\"Missing Values:\\n\", df.isnull().sum())"
   ]
  },
  {
   "cell_type": "markdown",
   "metadata": {},
   "source": [
    "# Step 7: Data Transformation\n",
    "def transform_data(df):\n",
    "    # Example: Create a new column for sepal area\n",
    "    df['sepal_area'] = df['sepal length (cm)'] * df['sepal width (cm)']\n",
    "    return df\n",
    "\n",
    "# Update the main execution flow\n",
    "if __name__ == \"__main__\":\n",
    "    iris_df = load_data()\n",
    "    inspect_data(iris_df)\n",
    "    descriptive_statistics(iris_df)\n",
    "    visualize_data(iris_df)\n",
    "    check_missing_values(iris_df)\n",
    "    iris_df = transform_data(iris_df)  # Apply the transformation\n",
    "    final_visualizations(iris_df)"
   ]
  },
  {
   "cell_type": "markdown",
   "metadata": {},
   "source": [
    "# Step 8: Final Transformations and Visualizations\n",
    "\n",
    "def final_visualizations(df):\n",
    "    # Example: Create a new column for sepal area if not done in Step 7\n",
    "    if 'sepal_area' not in df.columns:\n",
    "        df['sepal_area'] = df['sepal length (cm)'] * df['sepal width (cm)']\n",
    "    \n",
    "    plt.figure(figsize=(10, 6))\n",
    "    sns.boxplot(data=df, x='species', y='sepal area')\n",
    "    plt.title('Sepal Area by Species')\n",
    "    plt.show()"
   ]
  }
 ],
 "metadata": {
  "kernelspec": {
   "display_name": "Python 3 (ipykernel)",
   "language": "python",
   "name": "python3"
  },
  "language_info": {
   "codemirror_mode": {
    "name": "ipython",
    "version": 3
   },
   "file_extension": ".py",
   "mimetype": "text/x-python",
   "name": "python",
   "nbconvert_exporter": "python",
   "pygments_lexer": "ipython3",
   "version": "3.12.5"
  }
 },
 "nbformat": 4,
 "nbformat_minor": 4
}
