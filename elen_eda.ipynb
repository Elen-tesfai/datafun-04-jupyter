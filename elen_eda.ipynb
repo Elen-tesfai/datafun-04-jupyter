{
 "cells": [
  {
   "cell_type": "markdown",
   "metadata": {},
   "source": [
    "# Exploratory Data Analysis (EDA) on Iris Dataset\n",
    "**Author**: Elen Tesfai  \n",
    "**Date**: [September 14, 2024]  \n",
    "**Purpose**: This notebook contains exploratory data analysis on the Iris dataset. The aim is to visualize and understand the distribution and relationships within the dataset."
   ]
  },
  {
   "cell_type": "markdown",
   "metadata": {},
   "source": []
  }
 ],
 "metadata": {
  "language_info": {
   "name": "python"
  }
 },
 "nbformat": 4,
 "nbformat_minor": 2
}
