{
 "cells": [
  {
   "cell_type": "markdown",
   "metadata": {},
   "source": [
    "# Exploratory Data Analysis (EDA) on Iris Dataset\n",
    "**Author**: Elen Tesfai  \n",
    "**Date**: [September 14, 2024]  \n",
    "**Purpose**: This notebook contains exploratory data analysis on the Iris dataset. The aim is to visualize and understand the distribution and relationships within the dataset."
   ]
  },
  {
   "cell_type": "markdown",
   "metadata": {},
   "source": [
    "## Overview of Steps\n",
    "1. **Import Dependencies**  \n",
    "   - Load necessary libraries.\n",
    "\n",
    "2. **Data Acquisition**  \n",
    "   - Load the Iris dataset and display the initial rows.\n",
    "\n",
    "3. **Initial Data Inspection**  \n",
    "   - Examine the dataset's shape and data types.\n",
    "\n",
    "4. **Descriptive Statistics**  \n",
    "   - Calculate summary statistics for the dataset.\n",
    "\n",
    "5. **Data Visualization**  \n",
    "   - Visualize distributions and relationships within the data.\n",
    "\n",
    "6. **Data Cleaning**  \n",
    "   - Identify and handle any missing values as needed.\n",
    "\n",
    "7. **Data Transformation**  \n",
    "   - Transform the data to prepare for analysis.\n",
    "\n",
    "8. **Final Visualizations**  \n",
    "   - Present the final findings through plots."
   ]
  },
  {
   "cell_type": "markdown",
   "metadata": {},
   "source": [
    "## Step 1: Importing Dependencies"
   ]
  },
  {
   "cell_type": "code",
   "execution_count": null,
   "metadata": {},
   "outputs": [],
   "source": [
    "# Import necessary libraries\n",
    "import pandas as pd\n",
    "import numpy as np\n",
    "import matplotlib.pyplot as plt\n",
    "import seaborn as sns"
   ]
  },
  {
   "cell_type": "markdown",
   "metadata": {},
   "source": []
  }
 ],
 "metadata": {
  "kernelspec": {
   "display_name": "Python 3 (ipykernel)",
   "language": "python",
   "name": "python3"
  },
  "language_info": {
   "codemirror_mode": {
    "name": "ipython",
    "version": 3
   },
   "file_extension": ".py",
   "mimetype": "text/x-python",
   "name": "python",
   "nbconvert_exporter": "python",
   "pygments_lexer": "ipython3",
   "version": "3.12.5"
  }
 },
 "nbformat": 4,
 "nbformat_minor": 4
}
